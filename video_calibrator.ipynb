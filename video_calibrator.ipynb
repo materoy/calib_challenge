{
 "metadata": {
  "language_info": {
   "codemirror_mode": {
    "name": "ipython",
    "version": 3
   },
   "file_extension": ".py",
   "mimetype": "text/x-python",
   "name": "python",
   "nbconvert_exporter": "python",
   "pygments_lexer": "ipython3",
   "version": "3.8.3-final"
  },
  "orig_nbformat": 2,
  "kernelspec": {
   "name": "python3",
   "display_name": "Python 3",
   "language": "python"
  }
 },
 "nbformat": 4,
 "nbformat_minor": 2,
 "cells": [
  {
   "cell_type": "code",
   "execution_count": 3,
   "metadata": {},
   "outputs": [],
   "source": [
    "import torch\n",
    "import torchvision\n",
    "import cv2 \n",
    "import numpy as np\n",
    "import os"
   ]
  },
  {
   "cell_type": "code",
   "execution_count": 14,
   "metadata": {},
   "outputs": [],
   "source": [
    "# Extracts the frames of a video\n",
    "temp_video_file = os.path.join('labeled', \"0.hevc\")\n",
    "\n",
    "def extract_frames(video_file):\n",
    "    if not os.path.exists(\"data\"):\n",
    "        os.mkdir(\"data\")\n",
    "    cap = cv2.VideoCapture(video_file)   \n",
    "    frames = []\n",
    "\n",
    "    while(cap.isOpened  ()):\n",
    "        frameId = cap.get(1) \n",
    "        ret, frame = cap.read()\n",
    "\n",
    "        if (ret != True):\n",
    "            break\n",
    "        gray = cv2.cvtColor(frame, cv2.COLOR_BGR2GRAY)\n",
    "        frames.append(gray)\n",
    "\n",
    "    np.save(os.path.join('data', os.path.split(video_file)[1].split('.')[0] + \".npy\"), frames)\n",
    "    \n",
    "    cap.release()\n",
    "\n",
    "# extract_frames(temp_video_file)"
   ]
  },
  {
   "cell_type": "code",
   "execution_count": 47,
   "metadata": {
    "tags": []
   },
   "outputs": [],
   "source": [
    "# frame_data = np.load(os.path.join(\"data\", \"0.npy\"))\n",
    "pitch_yaw_data = open(os.path.join(\"labeled\", \"0.txt\"), 'r').read().split('\\n')"
   ]
  },
  {
   "cell_type": "code",
   "execution_count": 50,
   "metadata": {
    "tags": []
   },
   "outputs": [
    {
     "output_type": "stream",
     "name": "stdout",
     "text": [
      "['3.346066188150387949e-02', '3.149205029088487234e-02']\n"
     ]
    }
   ],
   "source": [
    "print(pitch_yaw_data[0].split(' '))"
   ]
  }
 ]
}