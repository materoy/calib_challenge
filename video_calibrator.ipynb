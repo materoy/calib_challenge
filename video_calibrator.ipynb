{
  "nbformat": 4,
  "nbformat_minor": 0,
  "metadata": {
    "language_info": {
      "codemirror_mode": {
        "name": "ipython",
        "version": 3
      },
      "file_extension": ".py",
      "mimetype": "text/x-python",
      "name": "python",
      "nbconvert_exporter": "python",
      "pygments_lexer": "ipython3",
      "version": "3.8.3-final"
    },
    "orig_nbformat": 2,
    "kernelspec": {
      "name": "python3",
      "display_name": "Python 3",
      "language": "python"
    },
    "colab": {
      "name": "video_calibrator.ipynb",
      "provenance": []
    }
  },
  "cells": [
    {
      "cell_type": "code",
      "metadata": {
        "id": "yOxGe_zczKMm"
      },
      "source": [
        "# ! wget https://github.com/romater0/calib_challenge\n",
        "# ! git clone https://github.com/romater0/calib_challenge.git\n",
        "# ! mv calib_challenge/labeled /content "
      ],
      "execution_count": 16,
      "outputs": []
    },
    {
      "cell_type": "code",
      "metadata": {
        "id": "WISe6-9szHgk"
      },
      "source": [
        "import torch\n",
        "import torchvision\n",
        "import cv2 \n",
        "import numpy as np\n",
        "import os"
      ],
      "execution_count": null,
      "outputs": []
    },
    {
      "cell_type": "code",
      "metadata": {
        "id": "j7dccPsozHgy"
      },
      "source": [
        "# Extracts the frames of a video\n",
        "temp_video_file = os.path.join('labeled', \"0.hevc\")\n",
        "\n",
        "def extract_frames(video_file):\n",
        "    if not os.path.exists(\"data\"):\n",
        "        os.mkdir(\"data\")\n",
        "    cap = cv2.VideoCapture(video_file)   \n",
        "    frames = []\n",
        "\n",
        "    while(cap.isOpened  ()):\n",
        "        frameId = cap.get(1) \n",
        "        ret, frame = cap.read()\n",
        "\n",
        "        if (ret != True):\n",
        "            break\n",
        "        gray = cv2.cvtColor(frame, cv2.COLOR_BGR2GRAY)\n",
        "        frames.append(gray)\n",
        "\n",
        "    np.save(os.path.join('data', os.path.split(video_file)[1].split('.')[0] + \".npy\"), frames)\n",
        "    \n",
        "    cap.release()\n",
        "\n",
        "# extract_frames(temp_video_file)"
      ],
      "execution_count": null,
      "outputs": []
    },
    {
      "cell_type": "code",
      "metadata": {
        "tags": [],
        "id": "V0dMgpdHzHgz"
      },
      "source": [
        "# frame_data = np.load(os.path.join(\"data\", \"0.npy\"))\n",
        "pitch_yaw_data = open(os.path.join(\"labeled\", \"0.txt\"), 'r').read().split('\\n')"
      ],
      "execution_count": null,
      "outputs": []
    },
    {
      "cell_type": "code",
      "metadata": {
        "tags": [],
        "id": "LV4UFEPdzHg0",
        "outputId": "c76ecc22-b88d-4268-f7f2-8d614a84e634"
      },
      "source": [
        "print(pitch_yaw_data[0].split(' '))"
      ],
      "execution_count": null,
      "outputs": [
        {
          "output_type": "stream",
          "text": [
            "['3.346066188150387949e-02', '3.149205029088487234e-02']\n"
          ],
          "name": "stdout"
        }
      ]
    }
  ]
}